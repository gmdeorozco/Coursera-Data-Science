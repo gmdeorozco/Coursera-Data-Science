{
    "cells": [
        {
            "cell_type": "markdown",
            "metadata": {},
            "source": "# Pandas Practice Jupyter Notebook"
        },
        {
            "cell_type": "markdown",
            "metadata": {},
            "source": "## - Clients"
        },
        {
            "cell_type": "code",
            "execution_count": 6,
            "metadata": {},
            "outputs": [
                {
                    "data": {
                        "text/html": "<div>\n<style scoped>\n    .dataframe tbody tr th:only-of-type {\n        vertical-align: middle;\n    }\n\n    .dataframe tbody tr th {\n        vertical-align: top;\n    }\n\n    .dataframe thead th {\n        text-align: right;\n    }\n</style>\n<table border=\"1\" class=\"dataframe\">\n  <thead>\n    <tr style=\"text-align: right;\">\n      <th></th>\n      <th>ID</th>\n      <th>Nombre</th>\n      <th>Apellido</th>\n      <th>Telefono1</th>\n      <th>Ciudad</th>\n      <th>DateText</th>\n      <th>Telefono2</th>\n      <th>Email</th>\n      <th>Direccion</th>\n      <th>Ultima_Compra</th>\n      <th>Amount</th>\n      <th>Categoria</th>\n      <th>Rank</th>\n    </tr>\n  </thead>\n  <tbody>\n    <tr>\n      <th>0</th>\n      <td>371</td>\n      <td>Suban Yuri</td>\n      <td>Valle Olivares</td>\n      <td>5.058689e+10</td>\n      <td>Jinotepe</td>\n      <td>15 / agosto / 2022</td>\n      <td>NaN</td>\n      <td>sayvo_45@hotmail.com</td>\n      <td>Del torrion de la UNAN,  2 cuadras y media al ...</td>\n      <td>2022-08-15</td>\n      <td>12239.0</td>\n      <td>Superprime \ud83d\udd25</td>\n      <td>1</td>\n    </tr>\n    <tr>\n      <th>1</th>\n      <td>165</td>\n      <td>Isaias</td>\n      <td>Flores</td>\n      <td>5.055736e+10</td>\n      <td>Managua</td>\n      <td>14 / julio / 2022</td>\n      <td>NaN</td>\n      <td>NaN</td>\n      <td>Trabajo aqui por lo semaforo el mayoreo 30 met...</td>\n      <td>2022-07-14</td>\n      <td>10300.0</td>\n      <td>Superprime \ud83d\udd25</td>\n      <td>2</td>\n    </tr>\n    <tr>\n      <th>2</th>\n      <td>70</td>\n      <td>Cesar</td>\n      <td>Gutierrez</td>\n      <td>5.058270e+10</td>\n      <td>Managua</td>\n      <td>05 / agosto / 2022</td>\n      <td>NaN</td>\n      <td>cesargutapia1957@gmail.com\\t</td>\n      <td>radio sandino 1c arriba 1/2 c al lago 3ra casa...</td>\n      <td>2022-08-05</td>\n      <td>10189.0</td>\n      <td>Superprime \ud83d\udd25</td>\n      <td>3</td>\n    </tr>\n    <tr>\n      <th>3</th>\n      <td>432</td>\n      <td>Gustavo Jos\u00ea</td>\n      <td>Laguna L\u00f4pez</td>\n      <td>5.058438e+10</td>\n      <td>Waslala</td>\n      <td>18 / enero / 2022</td>\n      <td>NaN</td>\n      <td>NaN</td>\n      <td>Hospital Primario Fidel Ventura de Waslala</td>\n      <td>2022-01-18</td>\n      <td>8260.0</td>\n      <td>Superprime \ud83d\udd25</td>\n      <td>4</td>\n    </tr>\n    <tr>\n      <th>4</th>\n      <td>3</td>\n      <td>Anyelo</td>\n      <td>Briones Flores</td>\n      <td>5.058627e+10</td>\n      <td>Somotillo</td>\n      <td>02 / agosto / 2022</td>\n      <td>NaN</td>\n      <td>NaN</td>\n      <td>Farmacia la Amistad, Del Mercado Municipal 200...</td>\n      <td>2022-08-02</td>\n      <td>8045.0</td>\n      <td>Superprime \ud83d\udd25</td>\n      <td>5</td>\n    </tr>\n    <tr>\n      <th>5</th>\n      <td>183</td>\n      <td>Jean Felipe</td>\n      <td>McLean Cornelio</td>\n      <td>NaN</td>\n      <td>Puerto Cabezas</td>\n      <td>24 / diciembre / 2021</td>\n      <td>NaN</td>\n      <td>NaN</td>\n      <td>Barrio Cocal, calle la bocana, exactamente fre...</td>\n      <td>2021-12-24</td>\n      <td>7310.0</td>\n      <td>Superprime \ud83d\udd25</td>\n      <td>6</td>\n    </tr>\n    <tr>\n      <th>6</th>\n      <td>461</td>\n      <td>Jairo</td>\n      <td>Mart\u00ednez Garcia</td>\n      <td>5.058492e+10</td>\n      <td>La Trinidad</td>\n      <td>15 / febrero / 2022</td>\n      <td>NaN</td>\n      <td>NaN</td>\n      <td>Donde. Fue. La. Texaco. 5. Cuadras. Al. Oeste...</td>\n      <td>2022-02-15</td>\n      <td>6740.0</td>\n      <td>Superprime \ud83d\udd25</td>\n      <td>7</td>\n    </tr>\n    <tr>\n      <th>7</th>\n      <td>210</td>\n      <td>Juan Bartolome</td>\n      <td>Silva Cordoba</td>\n      <td>5.058564e+10</td>\n      <td>Ciudad Sandino</td>\n      <td>04 / septiembre / 2021</td>\n      <td>NaN</td>\n      <td>NaN</td>\n      <td>Del Cruce de satelite de asosoca 1c al sur. Pr...</td>\n      <td>2021-09-04</td>\n      <td>6730.0</td>\n      <td>Superprime \ud83d\udd25</td>\n      <td>8</td>\n    </tr>\n    <tr>\n      <th>8</th>\n      <td>727</td>\n      <td>Rolando</td>\n      <td>Ramirez</td>\n      <td>5.058803e+10</td>\n      <td>Managua</td>\n      <td>21 / agosto / 2022</td>\n      <td>NaN</td>\n      <td>NaN</td>\n      <td>Barrio costa Rica de la distribuidora la unive...</td>\n      <td>2022-08-21</td>\n      <td>6555.0</td>\n      <td>Superprime \ud83d\udd25</td>\n      <td>9</td>\n    </tr>\n    <tr>\n      <th>9</th>\n      <td>230</td>\n      <td>Katy Mar\u00eda</td>\n      <td>Olivas</td>\n      <td>5.058729e+10</td>\n      <td>MULUKUKU</td>\n      <td>24 / enero / 2022</td>\n      <td>NaN</td>\n      <td>NaN</td>\n      <td>Farmacia el tuma</td>\n      <td>2022-01-24</td>\n      <td>6460.0</td>\n      <td>Superprime \ud83d\udd25</td>\n      <td>10</td>\n    </tr>\n    <tr>\n      <th>10</th>\n      <td>594</td>\n      <td>Juan Pablo</td>\n      <td>Fuentes D\u00edaz</td>\n      <td>5.058453e+10</td>\n      <td>La Concepcion</td>\n      <td>02 / septiembre / 2022</td>\n      <td>NaN</td>\n      <td>NaN</td>\n      <td>De la iglesia cat\u00f3lica 6 cuadras abajo 30 mts ...</td>\n      <td>2022-09-02</td>\n      <td>6420.0</td>\n      <td>Superprime \ud83d\udd25</td>\n      <td>11</td>\n    </tr>\n    <tr>\n      <th>11</th>\n      <td>584</td>\n      <td>Ramon</td>\n      <td>Sandino</td>\n      <td>5.058380e+10</td>\n      <td>Managua</td>\n      <td>27 / octubre / 2020</td>\n      <td>NaN</td>\n      <td>NaN</td>\n      <td>Managua sem\u00e1foro nestle 1 c al sur 1.5 abajo</td>\n      <td>2020-10-27</td>\n      <td>5590.0</td>\n      <td>Superprime \ud83d\udd25</td>\n      <td>14</td>\n    </tr>\n    <tr>\n      <th>12</th>\n      <td>825</td>\n      <td>Jaime Antonio</td>\n      <td>L\u00f3pez Rodriguez</td>\n      <td>5.058614e+10</td>\n      <td>Sebaco</td>\n      <td>14 / junio / 2022</td>\n      <td>NaN</td>\n      <td>NaN</td>\n      <td>Frente al parke de feria sebaco</td>\n      <td>2022-06-14</td>\n      <td>5429.0</td>\n      <td>Superprime \ud83d\udd25</td>\n      <td>15</td>\n    </tr>\n    <tr>\n      <th>13</th>\n      <td>577</td>\n      <td>Oscar Danilo</td>\n      <td>Barrera P\u00e9rez</td>\n      <td>5.058962e+10</td>\n      <td>Managua</td>\n      <td>20 / enero / 2022</td>\n      <td>NaN</td>\n      <td>NaN</td>\n      <td>Viniendo de sur a norte, despues de SEVIGOB, e...</td>\n      <td>2022-01-20</td>\n      <td>5385.0</td>\n      <td>Superprime \ud83d\udd25</td>\n      <td>16</td>\n    </tr>\n    <tr>\n      <th>14</th>\n      <td>34</td>\n      <td>Arsenio</td>\n      <td>Chow</td>\n      <td>5.058698e+10</td>\n      <td>Rosita</td>\n      <td>10 / septiembre / 2022</td>\n      <td>NaN</td>\n      <td>NaN</td>\n      <td>gasolinera el minero contiguo al Estadio munic...</td>\n      <td>2022-09-10</td>\n      <td>6215.0</td>\n      <td>Superprime \ud83d\udd25</td>\n      <td>12</td>\n    </tr>\n    <tr>\n      <th>15</th>\n      <td>778</td>\n      <td>Lourdes</td>\n      <td>Roman</td>\n      <td>5.058497e+10</td>\n      <td>Somoto</td>\n      <td>13 / agosto / 2022</td>\n      <td>NaN</td>\n      <td>NaN</td>\n      <td>84966954sorbeteria El Eskimo, costado norte de...</td>\n      <td>2022-08-13</td>\n      <td>5250.0</td>\n      <td>Superprime \ud83d\udd25</td>\n      <td>17</td>\n    </tr>\n    <tr>\n      <th>16</th>\n      <td>208</td>\n      <td>Juan Aristides</td>\n      <td>Garcia Romero</td>\n      <td>5.058820e+10</td>\n      <td>Managua</td>\n      <td>07 / julio / 2022</td>\n      <td>NaN</td>\n      <td>NaN</td>\n      <td>Retira en tienda</td>\n      <td>2022-07-07</td>\n      <td>5150.0</td>\n      <td>Superprime \ud83d\udd25</td>\n      <td>18</td>\n    </tr>\n    <tr>\n      <th>17</th>\n      <td>196</td>\n      <td>Jorling Jose</td>\n      <td>Zeas</td>\n      <td>NaN</td>\n      <td>Nandaime</td>\n      <td>11 / abril / 2022</td>\n      <td>NaN</td>\n      <td>NaN</td>\n      <td>Mercado municipal, 200 metros al norte. Mano d...</td>\n      <td>2022-04-11</td>\n      <td>4690.0</td>\n      <td>Superprime \ud83d\udd25</td>\n      <td>19</td>\n    </tr>\n    <tr>\n      <th>18</th>\n      <td>97</td>\n      <td>Eddie</td>\n      <td>Herrera Alvarado</td>\n      <td>5.058417e+10</td>\n      <td>Managua</td>\n      <td>07 / marzo / 2022</td>\n      <td>NaN</td>\n      <td>NaN</td>\n      <td>Anexo villa libertad farmacia monte cristo 1c ...</td>\n      <td>2022-03-07</td>\n      <td>4659.0</td>\n      <td>Superprime \ud83d\udd25</td>\n      <td>20</td>\n    </tr>\n    <tr>\n      <th>19</th>\n      <td>820</td>\n      <td>Auxiliadora</td>\n      <td>C\u00e1rdenas</td>\n      <td>5.058691e+10</td>\n      <td>San Jorge - Rivas</td>\n      <td>20 / julio / 2022</td>\n      <td>NaN</td>\n      <td>NaN</td>\n      <td>Hotel Nicarao 1 c al norte 1/2 c/ oeste. Mano ...</td>\n      <td>2022-07-20</td>\n      <td>4645.0</td>\n      <td>Superprime \ud83d\udd25</td>\n      <td>21</td>\n    </tr>\n  </tbody>\n</table>\n</div>",
                        "text/plain": "     ID          Nombre          Apellido     Telefono1             Ciudad  \\\n0   371      Suban Yuri    Valle Olivares  5.058689e+10           Jinotepe   \n1   165          Isaias            Flores  5.055736e+10            Managua   \n2    70           Cesar         Gutierrez  5.058270e+10            Managua   \n3   432   Gustavo Jos\u00ea       Laguna L\u00f4pez  5.058438e+10            Waslala   \n4     3          Anyelo    Briones Flores  5.058627e+10          Somotillo   \n5   183    Jean Felipe    McLean Cornelio           NaN     Puerto Cabezas   \n6   461           Jairo   Mart\u00ednez Garcia  5.058492e+10        La Trinidad   \n7   210  Juan Bartolome     Silva Cordoba  5.058564e+10     Ciudad Sandino   \n8   727         Rolando           Ramirez  5.058803e+10            Managua   \n9   230      Katy Mar\u00eda            Olivas  5.058729e+10           MULUKUKU   \n10  594      Juan Pablo      Fuentes D\u00edaz  5.058453e+10      La Concepcion   \n11  584           Ramon           Sandino  5.058380e+10            Managua   \n12  825   Jaime Antonio   L\u00f3pez Rodriguez  5.058614e+10             Sebaco   \n13  577    Oscar Danilo     Barrera P\u00e9rez  5.058962e+10            Managua   \n14   34         Arsenio              Chow  5.058698e+10             Rosita   \n15  778         Lourdes             Roman  5.058497e+10             Somoto   \n16  208  Juan Aristides     Garcia Romero  5.058820e+10            Managua   \n17  196    Jorling Jose              Zeas           NaN           Nandaime   \n18   97           Eddie  Herrera Alvarado  5.058417e+10            Managua   \n19  820     Auxiliadora          C\u00e1rdenas  5.058691e+10  San Jorge - Rivas   \n\n                  DateText  Telefono2                         Email  \\\n0       15 / agosto / 2022        NaN          sayvo_45@hotmail.com   \n1        14 / julio / 2022        NaN                           NaN   \n2       05 / agosto / 2022        NaN  cesargutapia1957@gmail.com\\t   \n3        18 / enero / 2022        NaN                           NaN   \n4       02 / agosto / 2022        NaN                           NaN   \n5    24 / diciembre / 2021        NaN                           NaN   \n6      15 / febrero / 2022        NaN                           NaN   \n7   04 / septiembre / 2021        NaN                           NaN   \n8       21 / agosto / 2022        NaN                           NaN   \n9        24 / enero / 2022        NaN                           NaN   \n10  02 / septiembre / 2022        NaN                           NaN   \n11     27 / octubre / 2020        NaN                           NaN   \n12       14 / junio / 2022        NaN                           NaN   \n13       20 / enero / 2022        NaN                           NaN   \n14  10 / septiembre / 2022        NaN                           NaN   \n15      13 / agosto / 2022        NaN                           NaN   \n16       07 / julio / 2022        NaN                           NaN   \n17       11 / abril / 2022        NaN                           NaN   \n18       07 / marzo / 2022        NaN                           NaN   \n19       20 / julio / 2022        NaN                           NaN   \n\n                                            Direccion Ultima_Compra   Amount  \\\n0   Del torrion de la UNAN,  2 cuadras y media al ...    2022-08-15  12239.0   \n1   Trabajo aqui por lo semaforo el mayoreo 30 met...    2022-07-14  10300.0   \n2   radio sandino 1c arriba 1/2 c al lago 3ra casa...    2022-08-05  10189.0   \n3          Hospital Primario Fidel Ventura de Waslala    2022-01-18   8260.0   \n4   Farmacia la Amistad, Del Mercado Municipal 200...    2022-08-02   8045.0   \n5   Barrio Cocal, calle la bocana, exactamente fre...    2021-12-24   7310.0   \n6    Donde. Fue. La. Texaco. 5. Cuadras. Al. Oeste...    2022-02-15   6740.0   \n7   Del Cruce de satelite de asosoca 1c al sur. Pr...    2021-09-04   6730.0   \n8   Barrio costa Rica de la distribuidora la unive...    2022-08-21   6555.0   \n9                                    Farmacia el tuma    2022-01-24   6460.0   \n10  De la iglesia cat\u00f3lica 6 cuadras abajo 30 mts ...    2022-09-02   6420.0   \n11       Managua sem\u00e1foro nestle 1 c al sur 1.5 abajo    2020-10-27   5590.0   \n12                    Frente al parke de feria sebaco    2022-06-14   5429.0   \n13  Viniendo de sur a norte, despues de SEVIGOB, e...    2022-01-20   5385.0   \n14  gasolinera el minero contiguo al Estadio munic...    2022-09-10   6215.0   \n15  84966954sorbeteria El Eskimo, costado norte de...    2022-08-13   5250.0   \n16                                   Retira en tienda    2022-07-07   5150.0   \n17  Mercado municipal, 200 metros al norte. Mano d...    2022-04-11   4690.0   \n18  Anexo villa libertad farmacia monte cristo 1c ...    2022-03-07   4659.0   \n19  Hotel Nicarao 1 c al norte 1/2 c/ oeste. Mano ...    2022-07-20   4645.0   \n\n       Categoria  Rank  \n0   Superprime \ud83d\udd25     1  \n1   Superprime \ud83d\udd25     2  \n2   Superprime \ud83d\udd25     3  \n3   Superprime \ud83d\udd25     4  \n4   Superprime \ud83d\udd25     5  \n5   Superprime \ud83d\udd25     6  \n6   Superprime \ud83d\udd25     7  \n7   Superprime \ud83d\udd25     8  \n8   Superprime \ud83d\udd25     9  \n9   Superprime \ud83d\udd25    10  \n10  Superprime \ud83d\udd25    11  \n11  Superprime \ud83d\udd25    14  \n12  Superprime \ud83d\udd25    15  \n13  Superprime \ud83d\udd25    16  \n14  Superprime \ud83d\udd25    12  \n15  Superprime \ud83d\udd25    17  \n16  Superprime \ud83d\udd25    18  \n17  Superprime \ud83d\udd25    19  \n18  Superprime \ud83d\udd25    20  \n19  Superprime \ud83d\udd25    21  "
                    },
                    "execution_count": 6,
                    "metadata": {},
                    "output_type": "execute_result"
                }
            ],
            "source": "# The code was removed by Watson Studio for sharing."
        },
        {
            "cell_type": "markdown",
            "metadata": {},
            "source": "## - Sales "
        },
        {
            "cell_type": "code",
            "execution_count": 4,
            "metadata": {},
            "outputs": [
                {
                    "data": {
                        "text/html": "<div>\n<style scoped>\n    .dataframe tbody tr th:only-of-type {\n        vertical-align: middle;\n    }\n\n    .dataframe tbody tr th {\n        vertical-align: top;\n    }\n\n    .dataframe thead th {\n        text-align: right;\n    }\n</style>\n<table border=\"1\" class=\"dataframe\">\n  <thead>\n    <tr style=\"text-align: right;\">\n      <th></th>\n      <th>ID</th>\n      <th>Fecha</th>\n      <th>Status</th>\n      <th>Cliente_ID</th>\n      <th>Cliente</th>\n      <th>Direccion_Cliente</th>\n      <th>Ciudad_Cliente</th>\n      <th>Telefono1</th>\n      <th>Email</th>\n      <th>Telefono2</th>\n      <th>Categoria</th>\n      <th>Direccion_Envio</th>\n      <th>Ciudad_Envio</th>\n      <th>Descuento</th>\n      <th>Envio_Managua</th>\n      <th>Impuesto</th>\n      <th>Total_a_Recibir</th>\n      <th>Total_Producto</th>\n    </tr>\n  </thead>\n  <tbody>\n    <tr>\n      <th>0</th>\n      <td>881</td>\n      <td>2018-01-01</td>\n      <td>Entregado \u2714\ufe0f</td>\n      <td>456.0</td>\n      <td>Isai Saavedra</td>\n      <td>Isaisaavedraurbina80@hotmail.com</td>\n      <td>Managua</td>\n      <td>50586739410</td>\n      <td>Isaisaavedraurbina80@hotmail.com</td>\n      <td>NaN</td>\n      <td>Superprime \ud83d\udd25</td>\n      <td>Km 17 carretera Masaya, detr\u00e1s de Cargill</td>\n      <td>NaN</td>\n      <td>NaN</td>\n      <td>NaN</td>\n      <td>NaN</td>\n      <td>1700.0</td>\n      <td>1700.0</td>\n    </tr>\n    <tr>\n      <th>1</th>\n      <td>871</td>\n      <td>2018-08-18</td>\n      <td>Entregado \u2714\ufe0f</td>\n      <td>831.0</td>\n      <td>Luis Alexander Rocha Obando</td>\n      <td>NaN</td>\n      <td>Managua</td>\n      <td>50588948782</td>\n      <td>NaN</td>\n      <td>NaN</td>\n      <td>VIP \ud83d\ude0a</td>\n      <td>Direccion: Recidencial altos de mostastepe cas...</td>\n      <td>NaN</td>\n      <td>NaN</td>\n      <td>NaN</td>\n      <td>NaN</td>\n      <td>1250.0</td>\n      <td>1250.0</td>\n    </tr>\n    <tr>\n      <th>2</th>\n      <td>872</td>\n      <td>2018-08-20</td>\n      <td>Entregado \u2714\ufe0f</td>\n      <td>832.0</td>\n      <td>Oscar Ruiz</td>\n      <td>NaN</td>\n      <td>Managua</td>\n      <td>50588889944</td>\n      <td>NaN</td>\n      <td>NaN</td>\n      <td>VIP \ud83d\ude0a</td>\n      <td>DHL Camino de Oriente, frente al antiguo Lobo ...</td>\n      <td>NaN</td>\n      <td>NaN</td>\n      <td>NaN</td>\n      <td>NaN</td>\n      <td>1385.0</td>\n      <td>1385.0</td>\n    </tr>\n    <tr>\n      <th>3</th>\n      <td>873</td>\n      <td>2018-09-01</td>\n      <td>Entregado \u2714\ufe0f</td>\n      <td>834.0</td>\n      <td>Gutieeres Gutierres Donald</td>\n      <td>NaN</td>\n      <td>Managua</td>\n      <td>50585168944</td>\n      <td>NaN</td>\n      <td>NaN</td>\n      <td>VIP \ud83d\ude0a</td>\n      <td>Delos semafaros del mayoreo 100 metros buscand...</td>\n      <td>NaN</td>\n      <td>NaN</td>\n      <td>NaN</td>\n      <td>NaN</td>\n      <td>1360.0</td>\n      <td>1360.0</td>\n    </tr>\n    <tr>\n      <th>4</th>\n      <td>874</td>\n      <td>2018-09-14</td>\n      <td>Entregado \u2714\ufe0f</td>\n      <td>835.0</td>\n      <td>Alex Valle</td>\n      <td>NaN</td>\n      <td>Managua</td>\n      <td>50586334869</td>\n      <td>NaN</td>\n      <td>NaN</td>\n      <td>VIP \ud83d\ude0a</td>\n      <td>Rotonda Bello Horizonte 2 al sur, 2 abajo, 1 a...</td>\n      <td>NaN</td>\n      <td>NaN</td>\n      <td>NaN</td>\n      <td>NaN</td>\n      <td>1260.0</td>\n      <td>1260.0</td>\n    </tr>\n  </tbody>\n</table>\n</div>",
                        "text/plain": "    ID      Fecha        Status  Cliente_ID                       Cliente  \\\n0  881 2018-01-01  Entregado \u2714\ufe0f       456.0                Isai Saavedra    \n1  871 2018-08-18  Entregado \u2714\ufe0f       831.0  Luis Alexander Rocha Obando    \n2  872 2018-08-20  Entregado \u2714\ufe0f       832.0                   Oscar Ruiz    \n3  873 2018-09-01  Entregado \u2714\ufe0f       834.0   Gutieeres Gutierres Donald    \n4  874 2018-09-14  Entregado \u2714\ufe0f       835.0                   Alex Valle    \n\n                  Direccion_Cliente Ciudad_Cliente    Telefono1  \\\n0  Isaisaavedraurbina80@hotmail.com        Managua  50586739410   \n1                               NaN        Managua  50588948782   \n2                               NaN        Managua  50588889944   \n3                               NaN        Managua  50585168944   \n4                               NaN        Managua  50586334869   \n\n                              Email Telefono2     Categoria  \\\n0  Isaisaavedraurbina80@hotmail.com       NaN  Superprime \ud83d\udd25   \n1                               NaN       NaN         VIP \ud83d\ude0a   \n2                               NaN       NaN         VIP \ud83d\ude0a   \n3                               NaN       NaN         VIP \ud83d\ude0a   \n4                               NaN       NaN         VIP \ud83d\ude0a   \n\n                                     Direccion_Envio Ciudad_Envio  Descuento  \\\n0          Km 17 carretera Masaya, detr\u00e1s de Cargill          NaN        NaN   \n1  Direccion: Recidencial altos de mostastepe cas...          NaN        NaN   \n2  DHL Camino de Oriente, frente al antiguo Lobo ...          NaN        NaN   \n3  Delos semafaros del mayoreo 100 metros buscand...          NaN        NaN   \n4  Rotonda Bello Horizonte 2 al sur, 2 abajo, 1 a...          NaN        NaN   \n\n   Envio_Managua  Impuesto  Total_a_Recibir  Total_Producto  \n0            NaN       NaN           1700.0          1700.0  \n1            NaN       NaN           1250.0          1250.0  \n2            NaN       NaN           1385.0          1385.0  \n3            NaN       NaN           1360.0          1360.0  \n4            NaN       NaN           1260.0          1260.0  "
                    },
                    "execution_count": 4,
                    "metadata": {},
                    "output_type": "execute_result"
                }
            ],
            "source": "# The code was removed by Watson Studio for sharing."
        },
        {
            "cell_type": "code",
            "execution_count": 8,
            "metadata": {},
            "outputs": [
                {
                    "name": "stdout",
                    "output_type": "stream",
                    "text": "Collecting skillsnetwork\n  Downloading skillsnetwork-0.20.6-py3-none-any.whl (26 kB)\nRequirement already satisfied: tqdm<5,>=4 in /opt/conda/envs/Python-3.10/lib/python3.10/site-packages (from skillsnetwork) (4.64.0)\nRequirement already satisfied: ipython in /opt/conda/envs/Python-3.10/lib/python3.10/site-packages (from skillsnetwork) (8.4.0)\nRequirement already satisfied: requests<3,>=2 in /opt/conda/envs/Python-3.10/lib/python3.10/site-packages (from skillsnetwork) (2.28.1)\nRequirement already satisfied: ipywidgets<8,>=7 in /opt/conda/envs/Python-3.10/lib/python3.10/site-packages (from skillsnetwork) (7.6.5)\nRequirement already satisfied: traitlets>=4.3.1 in /opt/conda/envs/Python-3.10/lib/python3.10/site-packages (from ipywidgets<8,>=7->skillsnetwork) (5.1.1)\nRequirement already satisfied: ipykernel>=4.5.1 in /opt/conda/envs/Python-3.10/lib/python3.10/site-packages (from ipywidgets<8,>=7->skillsnetwork) (6.9.1)\nRequirement already satisfied: nbformat>=4.2.0 in /opt/conda/envs/Python-3.10/lib/python3.10/site-packages (from ipywidgets<8,>=7->skillsnetwork) (5.3.0)\nRequirement already satisfied: jupyterlab-widgets>=1.0.0 in /opt/conda/envs/Python-3.10/lib/python3.10/site-packages (from ipywidgets<8,>=7->skillsnetwork) (1.0.0)\nRequirement already satisfied: ipython-genutils~=0.2.0 in /opt/conda/envs/Python-3.10/lib/python3.10/site-packages (from ipywidgets<8,>=7->skillsnetwork) (0.2.0)\nRequirement already satisfied: widgetsnbextension~=3.5.0 in /opt/conda/envs/Python-3.10/lib/python3.10/site-packages (from ipywidgets<8,>=7->skillsnetwork) (3.5.2)\nRequirement already satisfied: pickleshare in /opt/conda/envs/Python-3.10/lib/python3.10/site-packages (from ipython->skillsnetwork) (0.7.5)\nRequirement already satisfied: jedi>=0.16 in /opt/conda/envs/Python-3.10/lib/python3.10/site-packages (from ipython->skillsnetwork) (0.18.1)\nRequirement already satisfied: decorator in /opt/conda/envs/Python-3.10/lib/python3.10/site-packages (from ipython->skillsnetwork) (5.1.1)\nRequirement already satisfied: setuptools>=18.5 in /opt/conda/envs/Python-3.10/lib/python3.10/site-packages (from ipython->skillsnetwork) (65.6.3)\nRequirement already satisfied: pygments>=2.4.0 in /opt/conda/envs/Python-3.10/lib/python3.10/site-packages (from ipython->skillsnetwork) (2.11.2)\nRequirement already satisfied: pexpect>4.3 in /opt/conda/envs/Python-3.10/lib/python3.10/site-packages (from ipython->skillsnetwork) (4.8.0)\nRequirement already satisfied: backcall in /opt/conda/envs/Python-3.10/lib/python3.10/site-packages (from ipython->skillsnetwork) (0.2.0)\nRequirement already satisfied: prompt-toolkit!=3.0.0,!=3.0.1,<3.1.0,>=2.0.0 in /opt/conda/envs/Python-3.10/lib/python3.10/site-packages (from ipython->skillsnetwork) (3.0.20)\nRequirement already satisfied: stack-data in /opt/conda/envs/Python-3.10/lib/python3.10/site-packages (from ipython->skillsnetwork) (0.2.0)\nRequirement already satisfied: matplotlib-inline in /opt/conda/envs/Python-3.10/lib/python3.10/site-packages (from ipython->skillsnetwork) (0.1.6)\nRequirement already satisfied: idna<4,>=2.5 in /opt/conda/envs/Python-3.10/lib/python3.10/site-packages (from requests<3,>=2->skillsnetwork) (3.3)\nRequirement already satisfied: urllib3<1.27,>=1.21.1 in /opt/conda/envs/Python-3.10/lib/python3.10/site-packages (from requests<3,>=2->skillsnetwork) (1.26.11)\nRequirement already satisfied: charset-normalizer<3,>=2 in /opt/conda/envs/Python-3.10/lib/python3.10/site-packages (from requests<3,>=2->skillsnetwork) (2.0.4)\nRequirement already satisfied: certifi>=2017.4.17 in /opt/conda/envs/Python-3.10/lib/python3.10/site-packages (from requests<3,>=2->skillsnetwork) (2022.12.7)\nRequirement already satisfied: jupyter-client<8.0 in /opt/conda/envs/Python-3.10/lib/python3.10/site-packages (from ipykernel>=4.5.1->ipywidgets<8,>=7->skillsnetwork) (7.3.5)\nRequirement already satisfied: tornado<7.0,>=4.2 in /opt/conda/envs/Python-3.10/lib/python3.10/site-packages (from ipykernel>=4.5.1->ipywidgets<8,>=7->skillsnetwork) (6.2)\nRequirement already satisfied: debugpy<2.0,>=1.0.0 in /opt/conda/envs/Python-3.10/lib/python3.10/site-packages (from ipykernel>=4.5.1->ipywidgets<8,>=7->skillsnetwork) (1.5.1)\nRequirement already satisfied: nest-asyncio in /opt/conda/envs/Python-3.10/lib/python3.10/site-packages (from ipykernel>=4.5.1->ipywidgets<8,>=7->skillsnetwork) (1.5.5)\nRequirement already satisfied: parso<0.9.0,>=0.8.0 in /opt/conda/envs/Python-3.10/lib/python3.10/site-packages (from jedi>=0.16->ipython->skillsnetwork) (0.8.3)\nRequirement already satisfied: jupyter-core in /opt/conda/envs/Python-3.10/lib/python3.10/site-packages (from nbformat>=4.2.0->ipywidgets<8,>=7->skillsnetwork) (4.11.2)\nRequirement already satisfied: jsonschema>=2.6 in /opt/conda/envs/Python-3.10/lib/python3.10/site-packages (from nbformat>=4.2.0->ipywidgets<8,>=7->skillsnetwork) (4.4.0)\nRequirement already satisfied: fastjsonschema in /opt/conda/envs/Python-3.10/lib/python3.10/site-packages (from nbformat>=4.2.0->ipywidgets<8,>=7->skillsnetwork) (2.16.2)\nRequirement already satisfied: ptyprocess>=0.5 in /opt/conda/envs/Python-3.10/lib/python3.10/site-packages (from pexpect>4.3->ipython->skillsnetwork) (0.7.0)\nRequirement already satisfied: wcwidth in /opt/conda/envs/Python-3.10/lib/python3.10/site-packages (from prompt-toolkit!=3.0.0,!=3.0.1,<3.1.0,>=2.0.0->ipython->skillsnetwork) (0.2.5)\nRequirement already satisfied: notebook>=4.4.1 in /opt/conda/envs/Python-3.10/lib/python3.10/site-packages (from widgetsnbextension~=3.5.0->ipywidgets<8,>=7->skillsnetwork) (6.4.12)\nRequirement already satisfied: asttokens in /opt/conda/envs/Python-3.10/lib/python3.10/site-packages (from stack-data->ipython->skillsnetwork) (2.0.5)\nRequirement already satisfied: executing in /opt/conda/envs/Python-3.10/lib/python3.10/site-packages (from stack-data->ipython->skillsnetwork) (0.8.3)\nRequirement already satisfied: pure-eval in /opt/conda/envs/Python-3.10/lib/python3.10/site-packages (from stack-data->ipython->skillsnetwork) (0.2.2)\nRequirement already satisfied: pyrsistent!=0.17.0,!=0.17.1,!=0.17.2,>=0.14.0 in /opt/conda/envs/Python-3.10/lib/python3.10/site-packages (from jsonschema>=2.6->nbformat>=4.2.0->ipywidgets<8,>=7->skillsnetwork) (0.18.0)\nRequirement already satisfied: attrs>=17.4.0 in /opt/conda/envs/Python-3.10/lib/python3.10/site-packages (from jsonschema>=2.6->nbformat>=4.2.0->ipywidgets<8,>=7->skillsnetwork) (21.4.0)\nRequirement already satisfied: pyzmq>=23.0 in /opt/conda/envs/Python-3.10/lib/python3.10/site-packages (from jupyter-client<8.0->ipykernel>=4.5.1->ipywidgets<8,>=7->skillsnetwork) (23.2.0)\nRequirement already satisfied: entrypoints in /opt/conda/envs/Python-3.10/lib/python3.10/site-packages (from jupyter-client<8.0->ipykernel>=4.5.1->ipywidgets<8,>=7->skillsnetwork) (0.4)\nRequirement already satisfied: python-dateutil>=2.8.2 in /opt/conda/envs/Python-3.10/lib/python3.10/site-packages (from jupyter-client<8.0->ipykernel>=4.5.1->ipywidgets<8,>=7->skillsnetwork) (2.8.2)\nRequirement already satisfied: nbconvert>=5 in /opt/conda/envs/Python-3.10/lib/python3.10/site-packages (from notebook>=4.4.1->widgetsnbextension~=3.5.0->ipywidgets<8,>=7->skillsnetwork) (5)\nRequirement already satisfied: prometheus-client in /opt/conda/envs/Python-3.10/lib/python3.10/site-packages (from notebook>=4.4.1->widgetsnbextension~=3.5.0->ipywidgets<8,>=7->skillsnetwork) (0.14.1)\nRequirement already satisfied: terminado>=0.8.3 in /opt/conda/envs/Python-3.10/lib/python3.10/site-packages (from notebook>=4.4.1->widgetsnbextension~=3.5.0->ipywidgets<8,>=7->skillsnetwork) (0.13.1)\nRequirement already satisfied: argon2-cffi in /opt/conda/envs/Python-3.10/lib/python3.10/site-packages (from notebook>=4.4.1->widgetsnbextension~=3.5.0->ipywidgets<8,>=7->skillsnetwork) (21.3.0)\nRequirement already satisfied: Send2Trash>=1.8.0 in /opt/conda/envs/Python-3.10/lib/python3.10/site-packages (from notebook>=4.4.1->widgetsnbextension~=3.5.0->ipywidgets<8,>=7->skillsnetwork) (1.8.0)\nRequirement already satisfied: jinja2 in /opt/conda/envs/Python-3.10/lib/python3.10/site-packages (from notebook>=4.4.1->widgetsnbextension~=3.5.0->ipywidgets<8,>=7->skillsnetwork) (3.0.3)\nRequirement already satisfied: six in /opt/conda/envs/Python-3.10/lib/python3.10/site-packages (from asttokens->stack-data->ipython->skillsnetwork) (1.16.0)\nRequirement already satisfied: argon2-cffi-bindings in /opt/conda/envs/Python-3.10/lib/python3.10/site-packages (from argon2-cffi->notebook>=4.4.1->widgetsnbextension~=3.5.0->ipywidgets<8,>=7->skillsnetwork) (21.2.0)\nRequirement already satisfied: MarkupSafe>=2.0 in /opt/conda/envs/Python-3.10/lib/python3.10/site-packages (from jinja2->notebook>=4.4.1->widgetsnbextension~=3.5.0->ipywidgets<8,>=7->skillsnetwork) (2.1.1)\nRequirement already satisfied: cffi>=1.0.1 in /opt/conda/envs/Python-3.10/lib/python3.10/site-packages (from argon2-cffi-bindings->argon2-cffi->notebook>=4.4.1->widgetsnbextension~=3.5.0->ipywidgets<8,>=7->skillsnetwork) (1.15.1)\nRequirement already satisfied: pycparser in /opt/conda/envs/Python-3.10/lib/python3.10/site-packages (from cffi>=1.0.1->argon2-cffi-bindings->argon2-cffi->notebook>=4.4.1->widgetsnbextension~=3.5.0->ipywidgets<8,>=7->skillsnetwork) (2.21)\nInstalling collected packages: skillsnetwork\nSuccessfully installed skillsnetwork-0.20.6\nNote: you may need to restart the kernel to use updated packages.\n"
                }
            ],
            "source": "pip install skillsnetwork"
        },
        {
            "cell_type": "code",
            "execution_count": 9,
            "metadata": {},
            "outputs": [
                {
                    "data": {
                        "application/vnd.jupyter.widget-view+json": {
                            "model_id": "15de54cff687495da6ae9d8029ab666b",
                            "version_major": 2,
                            "version_minor": 0
                        },
                        "text/plain": "Downloading example1.txt:   0%|          | 0/45 [00:00<?, ?it/s]"
                    },
                    "metadata": {},
                    "output_type": "display_data"
                },
                {
                    "name": "stdout",
                    "output_type": "stream",
                    "text": "Saved as 'example1.txt'\n"
                }
            ],
            "source": "import skillsnetwork\nawait skillsnetwork.download_dataset(\"https://cf-courses-data.s3.us.cloud-object-storage.appdomain.cloud/IBMDeveloperSkillsNetwork-PY0101EN-SkillsNetwork/labs/Module%204/data/example1.txt\")\ndf = open(\"example1.txt\")"
        },
        {
            "cell_type": "code",
            "execution_count": 11,
            "metadata": {},
            "outputs": [],
            "source": "# Read the Example1.txt\nexample1 = \"example1.txt\"\nfile1 = open(example1, \"r\")"
        },
        {
            "cell_type": "code",
            "execution_count": 13,
            "metadata": {},
            "outputs": [
                {
                    "data": {
                        "text/plain": "'example1.txt'"
                    },
                    "execution_count": 13,
                    "metadata": {},
                    "output_type": "execute_result"
                }
            ],
            "source": "file1.mode\nfile1.name"
        },
        {
            "cell_type": "code",
            "execution_count": 14,
            "metadata": {},
            "outputs": [
                {
                    "data": {
                        "text/plain": "'This is line 1 \\nThis is line 2\\nThis is line 3'"
                    },
                    "execution_count": 14,
                    "metadata": {},
                    "output_type": "execute_result"
                }
            ],
            "source": "# Read the file\n\nFileContent = file1.read()\nFileContent"
        },
        {
            "cell_type": "code",
            "execution_count": 15,
            "metadata": {},
            "outputs": [
                {
                    "name": "stdout",
                    "output_type": "stream",
                    "text": "This is line 1 \nThis is line 2\nThis is line 3\n"
                }
            ],
            "source": "print(FileContent)"
        },
        {
            "cell_type": "markdown",
            "metadata": {},
            "source": "<h2 id=\"better\">A Better Way to Open a File</h2>"
        },
        {
            "cell_type": "code",
            "execution_count": 16,
            "metadata": {},
            "outputs": [
                {
                    "name": "stdout",
                    "output_type": "stream",
                    "text": "This is line 1 \nThis is line 2\nThis is line 3\n"
                }
            ],
            "source": "# Open file using with\n\nwith open(example1, \"r\") as file1:\n    FileContent = file1.read()\n    print(FileContent)"
        },
        {
            "cell_type": "code",
            "execution_count": 18,
            "metadata": {},
            "outputs": [
                {
                    "data": {
                        "text/plain": "True"
                    },
                    "execution_count": 18,
                    "metadata": {},
                    "output_type": "execute_result"
                }
            ],
            "source": "# Verify if the file is closed\n\nfile1.closed"
        },
        {
            "cell_type": "code",
            "execution_count": 19,
            "metadata": {},
            "outputs": [],
            "source": "# Write line to file\nexmp2 = 'Example2.txt'\nwith open(exmp2, 'w') as writefile:\n    writefile.write(\"This is line A\")"
        },
        {
            "cell_type": "code",
            "execution_count": 21,
            "metadata": {},
            "outputs": [
                {
                    "name": "stdout",
                    "output_type": "stream",
                    "text": "This is line A\n"
                }
            ],
            "source": "# Read file\n\nwith open(exmp2, 'r') as testwritefile:\n    print(testwritefile.read())"
        },
        {
            "cell_type": "code",
            "execution_count": 22,
            "metadata": {},
            "outputs": [],
            "source": "# Write lines to file\n\nwith open(exmp2, 'w') as writefile:\n    writefile.write(\"This is line A\\n\")\n    writefile.write(\"This is line B\\n\")"
        },
        {
            "cell_type": "code",
            "execution_count": 23,
            "metadata": {},
            "outputs": [
                {
                    "name": "stdout",
                    "output_type": "stream",
                    "text": "This is line A\nThis is line B\n\n"
                }
            ],
            "source": "# Check whether write to file\n\nwith open(exmp2, 'r') as testwritefile:\n    print(testwritefile.read())"
        },
        {
            "cell_type": "code",
            "execution_count": 24,
            "metadata": {},
            "outputs": [
                {
                    "data": {
                        "text/plain": "['This is line A\\n', 'This is line B\\n', 'This is line C\\n']"
                    },
                    "execution_count": 24,
                    "metadata": {},
                    "output_type": "execute_result"
                }
            ],
            "source": "# Sample list of text\n\nLines = [\"This is line A\\n\", \"This is line B\\n\", \"This is line C\\n\"]\nLines"
        },
        {
            "cell_type": "code",
            "execution_count": 25,
            "metadata": {},
            "outputs": [
                {
                    "name": "stdout",
                    "output_type": "stream",
                    "text": "This is line A\n\nThis is line B\n\nThis is line C\n\n"
                }
            ],
            "source": "# Write the strings in the list to text file\n\nwith open('Example2.txt', 'w') as writefile:\n    for line in Lines:\n        print(line)\n        writefile.write(line)"
        },
        {
            "cell_type": "code",
            "execution_count": 26,
            "metadata": {},
            "outputs": [
                {
                    "name": "stdout",
                    "output_type": "stream",
                    "text": "This is line A\nThis is line B\nThis is line C\n\n"
                }
            ],
            "source": "# Verify if writing to file is successfully executed\n\nwith open('Example2.txt', 'r') as testwritefile:\n    print(testwritefile.read())"
        },
        {
            "cell_type": "code",
            "execution_count": 27,
            "metadata": {},
            "outputs": [
                {
                    "name": "stdout",
                    "output_type": "stream",
                    "text": "Overwrite\n\n"
                }
            ],
            "source": "with open('Example2.txt', 'w') as writefile:\n    writefile.write(\"Overwrite\\n\")\nwith open('Example2.txt', 'r') as testwritefile:\n    print(testwritefile.read())"
        },
        {
            "cell_type": "code",
            "execution_count": 29,
            "metadata": {},
            "outputs": [
                {
                    "name": "stdout",
                    "output_type": "stream",
                    "text": "Initial Location: 10\nRead nothing\n\nNew Location : 0\nOverwrite\n\nLocation after read: 10\n"
                }
            ],
            "source": "with open('Example2.txt', 'a+') as testwritefile:\n    print(\"Initial Location: {}\".format(testwritefile.tell()))\n    \n    data = testwritefile.read()\n    if (not data):  #empty strings return false in python\n            print('Read nothing') \n    else: \n            print(testwritefile.read())\n            \n    testwritefile.seek(0,0) # move 0 bytes from beginning.\n    \n    print(\"\\nNew Location : {}\".format(testwritefile.tell()))\n    data = testwritefile.read()\n    if (not data): \n            print('Read nothing') \n    else: \n            print(data)\n    \n    print(\"Location after read: {}\".format(testwritefile.tell()) )"
        },
        {
            "cell_type": "code",
            "execution_count": null,
            "metadata": {},
            "outputs": [],
            "source": ""
        }
    ],
    "metadata": {
        "kernelspec": {
            "display_name": "Python 3.10",
            "language": "python",
            "name": "python3"
        },
        "language_info": {
            "codemirror_mode": {
                "name": "ipython",
                "version": 3
            },
            "file_extension": ".py",
            "mimetype": "text/x-python",
            "name": "python",
            "nbconvert_exporter": "python",
            "pygments_lexer": "ipython3",
            "version": "3.10.9"
        }
    },
    "nbformat": 4,
    "nbformat_minor": 1
}